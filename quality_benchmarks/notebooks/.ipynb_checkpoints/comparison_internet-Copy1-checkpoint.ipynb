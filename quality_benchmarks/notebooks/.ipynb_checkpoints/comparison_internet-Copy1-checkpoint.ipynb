{
 "cells": [
  {
   "cell_type": "markdown",
   "metadata": {},
   "source": [
    "# Comparing algorithms on the Internet dataset\n",
    "The data is taken from [this source](https://kdd.ics.uci.edu/databases/internet_usage/internet_usage.html)."
   ]
  },
  {
   "cell_type": "markdown",
   "metadata": {},
   "source": [
    "For details on running the comparison, see [this article](https://github.com/catboost/benchmarks/blob/master/comparison_description.pdf)."
   ]
  },
  {
   "cell_type": "code",
   "execution_count": 1,
   "metadata": {},
   "outputs": [
    {
     "data": {
      "text/plain": [
       "['',\n",
       " '/home/yannick/bin/anaconda3/envs/py27/lib/python27.zip',\n",
       " '/home/yannick/bin/anaconda3/envs/py27/lib/python2.7',\n",
       " '/home/yannick/bin/anaconda3/envs/py27/lib/python2.7/plat-linux2',\n",
       " '/home/yannick/bin/anaconda3/envs/py27/lib/python2.7/lib-tk',\n",
       " '/home/yannick/bin/anaconda3/envs/py27/lib/python2.7/lib-old',\n",
       " '/home/yannick/bin/anaconda3/envs/py27/lib/python2.7/lib-dynload',\n",
       " '/home/yannick/bin/anaconda3/envs/py27/lib/python2.7/site-packages',\n",
       " '/home/yannick/bin/anaconda3/envs/py27/lib/python2.7/site-packages/Keras-1.0.5-py2.7.egg',\n",
       " '/home/yannick/bin/anaconda3/envs/py27/lib/python2.7/site-packages/mxnet-0.7.0-py2.7.egg',\n",
       " '/home/yannick/bin/anaconda3/envs/py27/lib/python2.7/site-packages/h2ohyperopt-0.3-py2.7.egg',\n",
       " '/home/yannick/bin/anaconda3/envs/py27/lib/python2.7/site-packages/pymongo-2.2-py2.7-linux-x86_64.egg',\n",
       " '/home/yannick/bin/anaconda3/envs/py27/lib/python2.7/site-packages/pydot_ng-1.0.1.dev0-py2.7.egg',\n",
       " '/home/yannick/bin/anaconda3/envs/py27/lib/python2.7/site-packages/IPython/extensions',\n",
       " '/home/yannick/.ipython',\n",
       " '..']"
      ]
     },
     "execution_count": 1,
     "metadata": {},
     "output_type": "execute_result"
    }
   ],
   "source": [
    "import sys\n",
    "\n",
    "sys.path.append(\"..\")\n",
    "\n",
    "sys.path"
   ]
  },
  {
   "cell_type": "code",
   "execution_count": 2,
   "metadata": {},
   "outputs": [],
   "source": [
    "%load_ext autoreload\n",
    "\n",
    "%autoreload 1"
   ]
  },
  {
   "cell_type": "code",
   "execution_count": 3,
   "metadata": {},
   "outputs": [
    {
     "name": "stderr",
     "output_type": "stream",
     "text": [
      "/home/yannick/bin/anaconda3/envs/py27/lib/python2.7/site-packages/sklearn/cross_validation.py:41: DeprecationWarning: This module was deprecated in version 0.18 in favor of the model_selection module into which all the refactored classes and functions are moved. Also note that the interface of the new CV iterators are different from that of this module. This module will be removed in 0.20.\n",
      "  \"This module will be removed in 0.20.\", DeprecationWarning)\n"
     ]
    }
   ],
   "source": [
    "from experiment import Experiment\n",
    "from xgboost_experiment import XGBExperiment\n",
    "from lightgbm_experiment import LGBExperiment\n",
    "from catboost_experiment import CABExperiment"
   ]
  },
  {
   "cell_type": "markdown",
   "metadata": {},
   "source": [
    "Load the dataset and set parameters for the experiment."
   ]
  },
  {
   "cell_type": "code",
   "execution_count": 4,
   "metadata": {
    "collapsed": true
   },
   "outputs": [],
   "source": [
    "learning_task = 'classification'\n",
    "dataset_path = '../prepare_internet/'\n",
    "n_estimators = 5000\n",
    "max_hyperopt_evals = 50\n",
    "\n",
    "experiment = Experiment(learning_task, train_path=dataset_path + 'train',\n",
    "                        test_path=dataset_path + 'test', cd_path = dataset_path + 'train.cd')\n",
    "X_train, y_train, X_test, y_test, cat_cols = experiment.read_data()"
   ]
  },
  {
   "cell_type": "markdown",
   "metadata": {},
   "source": [
    "Write a function that does the following:\n",
    "\n",
    "**Preprocess the dataset:**\n",
    "calculate counter values on the training set, transform cat features (for the `XGBoost` and `LightGBM` algorithms), and convert the data to the format of the algorithm. Do the same thing with all pairs after splitting them into cross validation folds.\n",
    "\n",
    "**Select the optimal number of trees for the algorithm with the default parameters:** for each fold and each number of trees, get the result of the algorithm trained on the other four folds, average the results for each number of trees, and choose the best one. \n",
    "\n",
    "**Assess the quality of the algorithm with the default parameters on a test dataset:** train the algorithm with the number of trees obtained in the previous step, and calculate the metric value on the test dataset.\n",
    "\n",
    "**Tune parameters for the algorithm using `Hyperopt`:** on each `Hyperopt` iteration of the algorithm, the best value of trees is selected and the metric for cross validation is calculated.\n",
    "\n",
    "**Show results on the test dataset for the algorithm with the tuned parameters:** train the algorithm with the optimal parameters and the number of trees obtained in the previous step, and calculate the metric value on the test dataset."
   ]
  },
  {
   "cell_type": "code",
   "execution_count": 5,
   "metadata": {
    "collapsed": true
   },
   "outputs": [],
   "source": [
    "import numpy as np\n",
    "\n",
    "def run_experiment(Experiment, title):\n",
    "    experiment = Experiment(learning_task, max_hyperopt_evals=max_hyperopt_evals,\n",
    "                            n_estimators=n_estimators)\n",
    "    cv_pairs, (dtrain, dtest) = experiment.split_and_preprocess(X_train.copy(), y_train, \n",
    "                                                                X_test.copy(), y_test, \n",
    "                                                                cat_cols, n_splits=5)\n",
    " \n",
    "    default_cv_result = experiment.run_cv(cv_pairs)\n",
    "    experiment.print_result(default_cv_result, 'Default {} result on cv'.format(title))\n",
    "\n",
    "    print('\\n~~~~~~~~~~~~~~~~~~~~~~~~~~~~~~~~~~~~~~~~~~~~~~~~~~~~\\n')\n",
    "\n",
    "    default_test_losses = []\n",
    "    for seed in range(5):\n",
    "        test_result = experiment.run_test(dtrain, dtest, X_test, params=default_cv_result['params'],\n",
    "                                          n_estimators=default_cv_result['best_n_estimators'], seed=seed)\n",
    "        default_test_losses.append(test_result['loss'])\n",
    "        print 'For seed=%d Test\\'s %s : %.5f' % (seed, experiment.metric, default_test_losses[-1])\n",
    "    print '\\nTest\\'s %s mean: %.5f, Test\\'s %s std: %.5f' % (experiment.metric, np.mean(default_test_losses),\n",
    "                                                             experiment.metric, np.std(default_test_losses))\n",
    "\n",
    "    print('\\n~~~~~~~~~~~~~~~~~~~~~~~~~~~~~~~~~~~~~~~~~~~~~~~~~~~~\\n')\n",
    "    print('Hyperopt iterations:\\n\\n')\n",
    "\n",
    "    tuned_cv_result = experiment.optimize_params(cv_pairs)\n",
    "\n",
    "    print('\\n~~~~~~~~~~~~~~~~~~~~~~~~~~~~~~~~~~~~~~~~~~~~~~~~~~~~\\n')\n",
    "\n",
    "    experiment.print_result(tuned_cv_result, 'Tuned {} result on cv'.format(title))\n",
    "\n",
    "    print('\\n~~~~~~~~~~~~~~~~~~~~~~~~~~~~~~~~~~~~~~~~~~~~~~~~~~~~\\n')\n",
    "\n",
    "    tuned_test_losses = []\n",
    "    for seed in range(5):\n",
    "        test_result = experiment.run_test(dtrain, dtest, X_test, params=tuned_cv_result['params'],\n",
    "                                          n_estimators=tuned_cv_result['best_n_estimators'], seed=seed)\n",
    "        tuned_test_losses.append(test_result['loss'])\n",
    "        print 'For seed=%d Test\\'s %s : %.5f' % (seed, experiment.metric, tuned_test_losses[-1])\n",
    "    print '\\nTest\\'s %s mean: %.5f, Test\\'s %s std: %.5f' % (experiment.metric, np.mean(tuned_test_losses),\n",
    "                                                             experiment.metric, np.std(tuned_test_losses))\n",
    "\n",
    "    return np.mean(default_test_losses), np.mean(tuned_test_losses)"
   ]
  },
  {
   "cell_type": "markdown",
   "metadata": {},
   "source": [
    "## `XGBoost`"
   ]
  },
  {
   "cell_type": "code",
   "execution_count": 6,
   "metadata": {},
   "outputs": [
    {
     "name": "stdout",
     "output_type": "stream",
     "text": [
      "Default XGBoost result on cv:\n",
      "\n",
      "logloss = 0.2403498\n",
      "best_n_estimators = 23\n",
      "params = {'colsample_bytree': 1.0, 'silent': 1, 'eval_metric': 'logloss', 'colsample_bylevel': 1.0, 'min_child_weight': 1, 'subsample': 1.0, 'eta': 0.3, 'objective': 'binary:logistic', 'alpha': 0, 'seed': 0, 'max_depth': 6, 'gamma': 0, 'lambda': 1}\n",
      "\n",
      "~~~~~~~~~~~~~~~~~~~~~~~~~~~~~~~~~~~~~~~~~~~~~~~~~~~~\n",
      "\n",
      "For seed=0 Test's logloss : 0.23468\n",
      "For seed=1 Test's logloss : 0.23468\n",
      "For seed=2 Test's logloss : 0.23468\n",
      "For seed=3 Test's logloss : 0.23468\n",
      "For seed=4 Test's logloss : 0.23468\n",
      "\n",
      "Test's logloss mean: 0.23468, Test's logloss std: 0.00000\n",
      "\n",
      "~~~~~~~~~~~~~~~~~~~~~~~~~~~~~~~~~~~~~~~~~~~~~~~~~~~~\n",
      "\n",
      "Hyperopt iterations:\n",
      "\n",
      "\n",
      "[1/50]\teval_time=71.46 sec\tcurrent_logloss=0.251020\tmin_logloss=0.251020\n",
      "[2/50]\teval_time=219.85 sec\tcurrent_logloss=0.244078\tmin_logloss=0.244078\n",
      "[3/50]\teval_time=33.14 sec\tcurrent_logloss=0.298277\tmin_logloss=0.244078\n",
      "[4/50]\teval_time=99.73 sec\tcurrent_logloss=0.233270\tmin_logloss=0.233270\n",
      "[5/50]\teval_time=71.77 sec\tcurrent_logloss=0.233026\tmin_logloss=0.233026\n",
      "[6/50]\teval_time=38.59 sec\tcurrent_logloss=0.244771\tmin_logloss=0.233026\n",
      "[7/50]\teval_time=51.97 sec\tcurrent_logloss=0.254185\tmin_logloss=0.233026\n",
      "[8/50]\teval_time=76.40 sec\tcurrent_logloss=0.234636\tmin_logloss=0.233026\n",
      "[9/50]\teval_time=56.07 sec\tcurrent_logloss=0.233867\tmin_logloss=0.233026\n",
      "[10/50]\teval_time=117.27 sec\tcurrent_logloss=0.233833\tmin_logloss=0.233026\n",
      "[11/50]\teval_time=33.14 sec\tcurrent_logloss=0.241200\tmin_logloss=0.233026\n",
      "[12/50]\teval_time=106.12 sec\tcurrent_logloss=0.231637\tmin_logloss=0.231637\n",
      "[13/50]\teval_time=45.42 sec\tcurrent_logloss=0.255963\tmin_logloss=0.231637\n",
      "[14/50]\teval_time=67.09 sec\tcurrent_logloss=0.230924\tmin_logloss=0.230924\n",
      "[15/50]\teval_time=94.85 sec\tcurrent_logloss=0.231015\tmin_logloss=0.230924\n",
      "[16/50]\teval_time=122.74 sec\tcurrent_logloss=0.260024\tmin_logloss=0.230924\n",
      "[17/50]\teval_time=102.50 sec\tcurrent_logloss=0.238854\tmin_logloss=0.230924\n",
      "[18/50]\teval_time=141.61 sec\tcurrent_logloss=0.238795\tmin_logloss=0.230924\n",
      "[19/50]\teval_time=55.54 sec\tcurrent_logloss=0.247903\tmin_logloss=0.230924\n",
      "[20/50]\teval_time=56.60 sec\tcurrent_logloss=0.243124\tmin_logloss=0.230924\n",
      "[21/50]\teval_time=76.54 sec\tcurrent_logloss=0.236232\tmin_logloss=0.230924\n",
      "[22/50]\teval_time=76.03 sec\tcurrent_logloss=0.234558\tmin_logloss=0.230924\n",
      "[23/50]\teval_time=71.11 sec\tcurrent_logloss=0.231971\tmin_logloss=0.230924\n",
      "[24/50]\teval_time=129.54 sec\tcurrent_logloss=0.231066\tmin_logloss=0.230924\n",
      "[25/50]\teval_time=84.41 sec\tcurrent_logloss=0.232909\tmin_logloss=0.230924\n",
      "[26/50]\teval_time=56.08 sec\tcurrent_logloss=0.231225\tmin_logloss=0.230924\n",
      "[27/50]\teval_time=48.21 sec\tcurrent_logloss=0.234566\tmin_logloss=0.230924\n",
      "[28/50]\teval_time=92.64 sec\tcurrent_logloss=0.232366\tmin_logloss=0.230924\n",
      "[29/50]\teval_time=93.37 sec\tcurrent_logloss=0.230547\tmin_logloss=0.230547\n",
      "[30/50]\teval_time=37.54 sec\tcurrent_logloss=0.239227\tmin_logloss=0.230547\n",
      "[31/50]\teval_time=90.89 sec\tcurrent_logloss=0.234871\tmin_logloss=0.230547\n",
      "[32/50]\teval_time=65.38 sec\tcurrent_logloss=0.242757\tmin_logloss=0.230547\n",
      "[33/50]\teval_time=30.49 sec\tcurrent_logloss=0.270450\tmin_logloss=0.230547\n",
      "[34/50]\teval_time=65.41 sec\tcurrent_logloss=0.233602\tmin_logloss=0.230547\n",
      "[35/50]\teval_time=124.52 sec\tcurrent_logloss=0.233637\tmin_logloss=0.230547\n",
      "[36/50]\teval_time=71.65 sec\tcurrent_logloss=0.232013\tmin_logloss=0.230547\n",
      "[37/50]\teval_time=97.26 sec\tcurrent_logloss=0.232008\tmin_logloss=0.230547\n",
      "[38/50]\teval_time=55.39 sec\tcurrent_logloss=0.235758\tmin_logloss=0.230547\n",
      "[39/50]\teval_time=35.89 sec\tcurrent_logloss=0.310039\tmin_logloss=0.230547\n",
      "[40/50]\teval_time=64.76 sec\tcurrent_logloss=0.235313\tmin_logloss=0.230547\n",
      "[41/50]\teval_time=86.79 sec\tcurrent_logloss=0.230963\tmin_logloss=0.230547\n",
      "[42/50]\teval_time=71.11 sec\tcurrent_logloss=0.248557\tmin_logloss=0.230547\n",
      "[43/50]\teval_time=59.40 sec\tcurrent_logloss=0.238530\tmin_logloss=0.230547\n",
      "[44/50]\teval_time=182.38 sec\tcurrent_logloss=0.236865\tmin_logloss=0.230547\n",
      "[45/50]\teval_time=39.64 sec\tcurrent_logloss=0.261836\tmin_logloss=0.230547\n",
      "[46/50]\teval_time=128.76 sec\tcurrent_logloss=0.234214\tmin_logloss=0.230547\n",
      "[47/50]\teval_time=34.81 sec\tcurrent_logloss=0.240790\tmin_logloss=0.230547\n",
      "[48/50]\teval_time=62.51 sec\tcurrent_logloss=0.233151\tmin_logloss=0.230547\n",
      "[49/50]\teval_time=92.85 sec\tcurrent_logloss=0.231322\tmin_logloss=0.230547\n",
      "[50/50]\teval_time=89.36 sec\tcurrent_logloss=0.230560\tmin_logloss=0.230547\n",
      "\n",
      "~~~~~~~~~~~~~~~~~~~~~~~~~~~~~~~~~~~~~~~~~~~~~~~~~~~~\n",
      "\n",
      "Tuned XGBoost result on cv:\n",
      "\n",
      "logloss = 0.2305472\n",
      "best_n_estimators = 3644\n",
      "params = {'colsample_bytree': 0.6962537370468375, 'silent': 1, 'eval_metric': 'logloss', 'colsample_bylevel': 0.7928649021155657, 'min_child_weight': 0.0016351884260171188, 'subsample': 0.6275970523899854, 'eta': 0.002177861389454202, 'objective': 'binary:logistic', 'alpha': 0, 'seed': 0, 'max_depth': 6, 'gamma': 0.00337931591400841, 'lambda': 0.12195808455066888}\n",
      "\n",
      "~~~~~~~~~~~~~~~~~~~~~~~~~~~~~~~~~~~~~~~~~~~~~~~~~~~~\n",
      "\n",
      "For seed=0 Test's logloss : 0.22651\n",
      "For seed=1 Test's logloss : 0.22705\n",
      "For seed=2 Test's logloss : 0.22652\n",
      "For seed=3 Test's logloss : 0.22750\n",
      "For seed=4 Test's logloss : 0.22697\n",
      "\n",
      "Test's logloss mean: 0.22691, Test's logloss std: 0.00037\n"
     ]
    }
   ],
   "source": [
    "xgb_default_test_result, xgb_tuned_test_result = run_experiment(XGBExperiment, \"XGBoost\")"
   ]
  },
  {
   "cell_type": "markdown",
   "metadata": {},
   "source": [
    "## `LightGBM`"
   ]
  },
  {
   "cell_type": "code",
   "execution_count": 7,
   "metadata": {},
   "outputs": [
    {
     "name": "stdout",
     "output_type": "stream",
     "text": [
      "Default LightGBM result on cv:\n",
      "\n",
      "logloss = 0.240168190538\n",
      "best_n_estimators = 54\n",
      "params = {'num_leaves': 127, 'verbose': -1, 'bagging_seed': 3, 'learning_rate': 0.1, 'data_random_seed': 1, 'min_data_in_leaf': 100, 'bagging_fraction': 1.0, 'metric': 'binary_logloss', 'feature_fraction_seed': 2, 'lambda_l1': 0, 'bagging_freq': 1, 'lambda_l2': 0, 'max_bin': 255, 'objective': 'binary', 'drop_seed': 4, 'min_sum_hessian_in_leaf': 10, 'feature_fraction': 1.0}\n",
      "\n",
      "~~~~~~~~~~~~~~~~~~~~~~~~~~~~~~~~~~~~~~~~~~~~~~~~~~~~\n",
      "\n",
      "For seed=0 Test's logloss : 0.23399\n",
      "For seed=1 Test's logloss : 0.23399\n",
      "For seed=2 Test's logloss : 0.23399\n",
      "For seed=3 Test's logloss : 0.23399\n",
      "For seed=4 Test's logloss : 0.23399\n",
      "\n",
      "Test's logloss mean: 0.23399, Test's logloss std: 0.00000\n",
      "\n",
      "~~~~~~~~~~~~~~~~~~~~~~~~~~~~~~~~~~~~~~~~~~~~~~~~~~~~\n",
      "\n",
      "Hyperopt iterations:\n",
      "\n",
      "\n",
      "[1/50]\teval_time=71.50 sec\tcurrent_logloss=0.233564\tmin_logloss=0.233564\n",
      "[2/50]\teval_time=18.54 sec\tcurrent_logloss=0.249656\tmin_logloss=0.233564\n",
      "[3/50]\teval_time=40.63 sec\tcurrent_logloss=0.235097\tmin_logloss=0.233564\n",
      "[4/50]\teval_time=15.59 sec\tcurrent_logloss=0.239783\tmin_logloss=0.233564\n",
      "[5/50]\teval_time=28.13 sec\tcurrent_logloss=0.236978\tmin_logloss=0.233564\n",
      "[6/50]\teval_time=25.97 sec\tcurrent_logloss=0.249097\tmin_logloss=0.233564\n",
      "[7/50]\teval_time=43.65 sec\tcurrent_logloss=0.235834\tmin_logloss=0.233564\n",
      "[8/50]\teval_time=20.58 sec\tcurrent_logloss=0.240258\tmin_logloss=0.233564\n",
      "[9/50]\teval_time=20.58 sec\tcurrent_logloss=0.249085\tmin_logloss=0.233564\n",
      "[10/50]\teval_time=23.86 sec\tcurrent_logloss=0.249495\tmin_logloss=0.233564\n",
      "[11/50]\teval_time=8.26 sec\tcurrent_logloss=0.261648\tmin_logloss=0.233564\n",
      "[12/50]\teval_time=9.43 sec\tcurrent_logloss=0.262193\tmin_logloss=0.233564\n",
      "[13/50]\teval_time=12.04 sec\tcurrent_logloss=0.286045\tmin_logloss=0.233564\n",
      "[14/50]\teval_time=18.57 sec\tcurrent_logloss=0.251363\tmin_logloss=0.233564\n",
      "[15/50]\teval_time=12.00 sec\tcurrent_logloss=0.237193\tmin_logloss=0.233564\n",
      "[16/50]\teval_time=123.73 sec\tcurrent_logloss=0.239394\tmin_logloss=0.233564\n",
      "[17/50]\teval_time=39.37 sec\tcurrent_logloss=0.237512\tmin_logloss=0.233564\n",
      "[18/50]\teval_time=45.46 sec\tcurrent_logloss=0.237200\tmin_logloss=0.233564\n",
      "[19/50]\teval_time=12.31 sec\tcurrent_logloss=0.327056\tmin_logloss=0.233564\n",
      "[20/50]\teval_time=103.69 sec\tcurrent_logloss=0.251691\tmin_logloss=0.233564\n",
      "[21/50]\teval_time=37.35 sec\tcurrent_logloss=0.235321\tmin_logloss=0.233564\n",
      "[22/50]\teval_time=25.65 sec\tcurrent_logloss=0.237323\tmin_logloss=0.233564\n",
      "[23/50]\teval_time=44.24 sec\tcurrent_logloss=0.235521\tmin_logloss=0.233564\n",
      "[24/50]\teval_time=229.23 sec\tcurrent_logloss=0.242857\tmin_logloss=0.233564\n",
      "[25/50]\teval_time=17.92 sec\tcurrent_logloss=0.238234\tmin_logloss=0.233564\n",
      "[26/50]\teval_time=33.74 sec\tcurrent_logloss=0.242335\tmin_logloss=0.233564\n",
      "[27/50]\teval_time=12.10 sec\tcurrent_logloss=0.265246\tmin_logloss=0.233564\n",
      "[28/50]\teval_time=35.70 sec\tcurrent_logloss=0.237134\tmin_logloss=0.233564\n",
      "[29/50]\teval_time=15.57 sec\tcurrent_logloss=0.253438\tmin_logloss=0.233564\n",
      "[30/50]\teval_time=114.07 sec\tcurrent_logloss=0.239790\tmin_logloss=0.233564\n",
      "[31/50]\teval_time=17.50 sec\tcurrent_logloss=0.237286\tmin_logloss=0.233564\n",
      "[32/50]\teval_time=202.57 sec\tcurrent_logloss=0.240849\tmin_logloss=0.233564\n",
      "[33/50]\teval_time=14.11 sec\tcurrent_logloss=0.269655\tmin_logloss=0.233564\n",
      "[34/50]\teval_time=27.29 sec\tcurrent_logloss=0.243769\tmin_logloss=0.233564\n",
      "[35/50]\teval_time=19.63 sec\tcurrent_logloss=0.249210\tmin_logloss=0.233564\n",
      "[36/50]\teval_time=17.36 sec\tcurrent_logloss=0.256397\tmin_logloss=0.233564\n",
      "[37/50]\teval_time=41.67 sec\tcurrent_logloss=0.244714\tmin_logloss=0.233564\n",
      "[38/50]\teval_time=58.63 sec\tcurrent_logloss=0.236262\tmin_logloss=0.233564\n",
      "[39/50]\teval_time=135.65 sec\tcurrent_logloss=0.241551\tmin_logloss=0.233564\n",
      "[40/50]\teval_time=14.75 sec\tcurrent_logloss=0.256204\tmin_logloss=0.233564\n",
      "[41/50]\teval_time=41.01 sec\tcurrent_logloss=0.234952\tmin_logloss=0.233564\n",
      "[42/50]\teval_time=11.83 sec\tcurrent_logloss=0.240302\tmin_logloss=0.233564\n",
      "[43/50]\teval_time=9.97 sec\tcurrent_logloss=0.255924\tmin_logloss=0.233564\n",
      "[44/50]\teval_time=17.21 sec\tcurrent_logloss=0.233200\tmin_logloss=0.233200\n",
      "[45/50]\teval_time=9.48 sec\tcurrent_logloss=0.256392\tmin_logloss=0.233200\n",
      "[46/50]\teval_time=13.59 sec\tcurrent_logloss=0.238001\tmin_logloss=0.233200\n",
      "[47/50]\teval_time=19.07 sec\tcurrent_logloss=0.231549\tmin_logloss=0.231549\n",
      "[48/50]\teval_time=8.91 sec\tcurrent_logloss=0.256098\tmin_logloss=0.231549\n",
      "[49/50]\teval_time=9.13 sec\tcurrent_logloss=0.256533\tmin_logloss=0.231549\n",
      "[50/50]\teval_time=17.47 sec\tcurrent_logloss=0.235685\tmin_logloss=0.231549\n",
      "\n",
      "~~~~~~~~~~~~~~~~~~~~~~~~~~~~~~~~~~~~~~~~~~~~~~~~~~~~\n",
      "\n",
      "Tuned LightGBM result on cv:\n",
      "\n",
      "logloss = 0.231549361525\n",
      "best_n_estimators = 673\n",
      "params = {'num_leaves': 7, 'verbose': -1, 'bagging_seed': 3, 'learning_rate': 0.021849718069798765, 'data_random_seed': 1, 'min_data_in_leaf': 1, 'bagging_freq': 1, 'metric': 'binary_logloss', 'feature_fraction_seed': 2, 'lambda_l1': 0, 'bagging_fraction': 0.6840334989414804, 'lambda_l2': 0, 'objective': 'binary', 'drop_seed': 4, 'min_sum_hessian_in_leaf': 1.494604707481395e-05, 'feature_fraction': 0.8706487558213982}\n",
      "\n",
      "~~~~~~~~~~~~~~~~~~~~~~~~~~~~~~~~~~~~~~~~~~~~~~~~~~~~\n",
      "\n",
      "For seed=0 Test's logloss : 0.22828\n",
      "For seed=1 Test's logloss : 0.22814\n",
      "For seed=2 Test's logloss : 0.23058\n",
      "For seed=3 Test's logloss : 0.22939\n",
      "For seed=4 Test's logloss : 0.22944\n",
      "\n",
      "Test's logloss mean: 0.22917, Test's logloss std: 0.00089\n"
     ]
    }
   ],
   "source": [
    "lgb_default_test_result, lgb_tuned_test_result = run_experiment(LGBExperiment, \"LightGBM\")"
   ]
  },
  {
   "cell_type": "markdown",
   "metadata": {},
   "source": [
    "## `CatBoost`"
   ]
  },
  {
   "cell_type": "code",
   "execution_count": null,
   "metadata": {},
   "outputs": [
    {
     "data": {
      "text/plain": [
       "'0.1.1.9'"
      ]
     },
     "execution_count": 8,
     "metadata": {},
     "output_type": "execute_result"
    }
   ],
   "source": [
    "import catboost\n",
    "\n",
    "catboost.__version__"
   ]
  },
  {
   "cell_type": "code",
   "execution_count": null,
   "metadata": {},
   "outputs": [
    {
     "name": "stdout",
     "output_type": "stream",
     "text": [
      "Default CatBoost result on cv:\n",
      "\n",
      "logloss = 0.222545143\n",
      "best_n_estimators = 1092\n",
      "params = {'rsm': 1.0, 'random_seed': 0, 'verbose': False, 'thread_count': 16, 'learning_rate': 0.03, 'ctr_border_count': 16, 'ctr_description': ['Borders', 'Counter'], 'iterations': 5000, 'gradient_iterations': 10, 'depth': 6, 'loss_function': 'Logloss', 'fold_len_multiplier': 2, 'leaf_estimation_method': 'Newton', 'l2_leaf_reg': 3, 'border_count': 128, 'used_ram_limit': 100000000000}\n",
      "\n",
      "~~~~~~~~~~~~~~~~~~~~~~~~~~~~~~~~~~~~~~~~~~~~~~~~~~~~\n",
      "\n",
      "For seed=0 Test's logloss : 0.21836\n",
      "For seed=1 Test's logloss : 0.22130\n",
      "For seed=2 Test's logloss : 0.21898\n",
      "For seed=3 Test's logloss : 0.21900\n",
      "For seed=4 Test's logloss : 0.22083\n",
      "\n",
      "Test's logloss mean: 0.21969, Test's logloss std: 0.00115\n",
      "\n",
      "~~~~~~~~~~~~~~~~~~~~~~~~~~~~~~~~~~~~~~~~~~~~~~~~~~~~\n",
      "\n",
      "Hyperopt iterations:\n",
      "\n",
      "\n",
      "[1/50]\teval_time=928.86 sec\tcurrent_logloss=0.221386\tmin_logloss=0.221386\n"
     ]
    }
   ],
   "source": [
    "cab_default_test_result, cab_tuned_test_result = run_experiment(CABExperiment, \"CatBoost\")"
   ]
  },
  {
   "cell_type": "markdown",
   "metadata": {
    "collapsed": true
   },
   "source": [
    "## Comparing results\n",
    "\n",
    "The final table with metric values on the test dataset."
   ]
  },
  {
   "cell_type": "code",
   "execution_count": null,
   "metadata": {
    "collapsed": true
   },
   "outputs": [],
   "source": [
    "import pandas as pd\n",
    "import numpy as np\n",
    "from IPython.display import HTML, display\n",
    "%pylab inline --no-import-all\n",
    "\n",
    "test_results = np.array([\n",
    "    (xgb_default_test_result, xgb_tuned_test_result),\n",
    "    (lgb_default_test_result, lgb_tuned_test_result),\n",
    "    (cab_default_test_result, cab_tuned_test_result)\n",
    "])\n",
    "\n",
    "diff = 100 * test_results / test_results[2,1] - 100\n",
    "\n",
    "res = [['{:.6f} ({:+.2f}%)'.format(test_results[i, j], diff[i, j]) for j in range(2)] for i in range(3)]\n",
    "\n",
    "display(HTML(pd.DataFrame(res, columns=['default', 'tuned'], index=['xgboost', 'lightgbm', 'catboost']).to_html()))\n",
    "\n",
    "results = [\n",
    "    ('Tuned CatBoost',   cab_tuned_test_result),\n",
    "    ('Default CatBoost', cab_default_test_result),\n",
    "    ('Tuned XGBoost',    xgb_tuned_test_result),\n",
    "    ('Default XGBoost',  xgb_default_test_result),\n",
    "    ('Tuned LightGBM',   lgb_tuned_test_result),\n",
    "    ('Default LightGBM', lgb_default_test_result),\n",
    "]\n",
    "names = ['%s\\n%.5f' % (name, loss) for name, loss in results]\n",
    "\n",
    "plt.figure(figsize=(20, 7))\n",
    "plt.scatter(range(6), zip(*results)[1], s=150)\n",
    "plt.xticks(range(6), names, fontsize=15)\n",
    "plt.yticks(fontsize=12)\n",
    "plt.title('Comparison', fontsize=20)\n",
    "plt.ylabel(experiment.metric, fontsize=16);"
   ]
  }
 ],
 "metadata": {
  "kernelspec": {
   "display_name": "Python [conda env:py27]",
   "language": "python",
   "name": "conda-env-py27-py"
  },
  "language_info": {
   "codemirror_mode": {
    "name": "ipython",
    "version": 2
   },
   "file_extension": ".py",
   "mimetype": "text/x-python",
   "name": "python",
   "nbconvert_exporter": "python",
   "pygments_lexer": "ipython2",
   "version": "2.7.14"
  }
 },
 "nbformat": 4,
 "nbformat_minor": 2
}
