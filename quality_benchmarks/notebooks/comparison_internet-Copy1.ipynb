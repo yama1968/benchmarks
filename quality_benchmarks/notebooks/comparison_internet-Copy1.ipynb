{
 "cells": [
  {
   "cell_type": "markdown",
   "metadata": {},
   "source": [
    "# Comparing algorithms on the Internet dataset\n",
    "The data is taken from [this source](https://kdd.ics.uci.edu/databases/internet_usage/internet_usage.html)."
   ]
  },
  {
   "cell_type": "markdown",
   "metadata": {},
   "source": [
    "For details on running the comparison, see [this article](https://github.com/catboost/benchmarks/blob/master/comparison_description.pdf)."
   ]
  },
  {
   "cell_type": "code",
   "execution_count": 1,
   "metadata": {},
   "outputs": [
    {
     "data": {
      "text/plain": [
       "['',\n",
       " '/home/yannick/bin/anaconda3/envs/py27/lib/python27.zip',\n",
       " '/home/yannick/bin/anaconda3/envs/py27/lib/python2.7',\n",
       " '/home/yannick/bin/anaconda3/envs/py27/lib/python2.7/plat-linux2',\n",
       " '/home/yannick/bin/anaconda3/envs/py27/lib/python2.7/lib-tk',\n",
       " '/home/yannick/bin/anaconda3/envs/py27/lib/python2.7/lib-old',\n",
       " '/home/yannick/bin/anaconda3/envs/py27/lib/python2.7/lib-dynload',\n",
       " '/home/yannick/bin/anaconda3/envs/py27/lib/python2.7/site-packages',\n",
       " '/home/yannick/bin/anaconda3/envs/py27/lib/python2.7/site-packages/Keras-1.0.5-py2.7.egg',\n",
       " '/home/yannick/bin/anaconda3/envs/py27/lib/python2.7/site-packages/mxnet-0.7.0-py2.7.egg',\n",
       " '/home/yannick/bin/anaconda3/envs/py27/lib/python2.7/site-packages/h2ohyperopt-0.3-py2.7.egg',\n",
       " '/home/yannick/bin/anaconda3/envs/py27/lib/python2.7/site-packages/pymongo-2.2-py2.7-linux-x86_64.egg',\n",
       " '/home/yannick/bin/anaconda3/envs/py27/lib/python2.7/site-packages/pydot_ng-1.0.1.dev0-py2.7.egg',\n",
       " '/home/yannick/bin/anaconda3/envs/py27/lib/python2.7/site-packages/IPython/extensions',\n",
       " '/home/yannick/.ipython',\n",
       " '..']"
      ]
     },
     "execution_count": 1,
     "metadata": {},
     "output_type": "execute_result"
    }
   ],
   "source": [
    "import sys\n",
    "\n",
    "sys.path.append(\"..\")\n",
    "\n",
    "sys.path"
   ]
  },
  {
   "cell_type": "code",
   "execution_count": 2,
   "metadata": {
    "collapsed": true
   },
   "outputs": [],
   "source": [
    "%load_ext autoreload\n",
    "\n",
    "%autoreload 1"
   ]
  },
  {
   "cell_type": "code",
   "execution_count": 3,
   "metadata": {},
   "outputs": [
    {
     "name": "stderr",
     "output_type": "stream",
     "text": [
      "/home/yannick/bin/anaconda3/envs/py27/lib/python2.7/site-packages/sklearn/cross_validation.py:41: DeprecationWarning: This module was deprecated in version 0.18 in favor of the model_selection module into which all the refactored classes and functions are moved. Also note that the interface of the new CV iterators are different from that of this module. This module will be removed in 0.20.\n",
      "  \"This module will be removed in 0.20.\", DeprecationWarning)\n"
     ]
    }
   ],
   "source": [
    "from experiment import Experiment\n",
    "from xgboost_experiment import XGBExperiment\n",
    "from lightgbm_experiment import LGBExperiment\n",
    "from catboost_experiment import CABExperiment"
   ]
  },
  {
   "cell_type": "markdown",
   "metadata": {},
   "source": [
    "Load the dataset and set parameters for the experiment."
   ]
  },
  {
   "cell_type": "code",
   "execution_count": 4,
   "metadata": {
    "collapsed": true
   },
   "outputs": [],
   "source": [
    "learning_task = 'classification'\n",
    "dataset_path = '../prepare_internet/'\n",
    "n_estimators = 5000\n",
    "max_hyperopt_evals = 50\n",
    "\n",
    "experiment = Experiment(learning_task, train_path=dataset_path + 'train',\n",
    "                        test_path=dataset_path + 'test', cd_path = dataset_path + 'train.cd')\n",
    "X_train, y_train, X_test, y_test, cat_cols = experiment.read_data()"
   ]
  },
  {
   "cell_type": "markdown",
   "metadata": {},
   "source": [
    "Write a function that does the following:\n",
    "\n",
    "**Preprocess the dataset:**\n",
    "calculate counter values on the training set, transform cat features (for the `XGBoost` and `LightGBM` algorithms), and convert the data to the format of the algorithm. Do the same thing with all pairs after splitting them into cross validation folds.\n",
    "\n",
    "**Select the optimal number of trees for the algorithm with the default parameters:** for each fold and each number of trees, get the result of the algorithm trained on the other four folds, average the results for each number of trees, and choose the best one. \n",
    "\n",
    "**Assess the quality of the algorithm with the default parameters on a test dataset:** train the algorithm with the number of trees obtained in the previous step, and calculate the metric value on the test dataset.\n",
    "\n",
    "**Tune parameters for the algorithm using `Hyperopt`:** on each `Hyperopt` iteration of the algorithm, the best value of trees is selected and the metric for cross validation is calculated.\n",
    "\n",
    "**Show results on the test dataset for the algorithm with the tuned parameters:** train the algorithm with the optimal parameters and the number of trees obtained in the previous step, and calculate the metric value on the test dataset."
   ]
  },
  {
   "cell_type": "code",
   "execution_count": 5,
   "metadata": {
    "collapsed": true
   },
   "outputs": [],
   "source": [
    "import numpy as np\n",
    "\n",
    "def run_experiment(Experiment, title):\n",
    "    experiment = Experiment(learning_task, max_hyperopt_evals=max_hyperopt_evals,\n",
    "                            n_estimators=n_estimators)\n",
    "    cv_pairs, (dtrain, dtest) = experiment.split_and_preprocess(X_train.copy(), y_train, \n",
    "                                                                X_test.copy(), y_test, \n",
    "                                                                cat_cols, n_splits=5)\n",
    " \n",
    "    default_cv_result = experiment.run_cv(cv_pairs)\n",
    "    experiment.print_result(default_cv_result, 'Default {} result on cv'.format(title))\n",
    "\n",
    "    print('\\n~~~~~~~~~~~~~~~~~~~~~~~~~~~~~~~~~~~~~~~~~~~~~~~~~~~~\\n')\n",
    "\n",
    "    default_test_losses = []\n",
    "    for seed in range(5):\n",
    "        test_result = experiment.run_test(dtrain, dtest, X_test, params=default_cv_result['params'],\n",
    "                                          n_estimators=default_cv_result['best_n_estimators'], seed=seed)\n",
    "        default_test_losses.append(test_result['loss'])\n",
    "        print 'For seed=%d Test\\'s %s : %.5f' % (seed, experiment.metric, default_test_losses[-1])\n",
    "    print '\\nTest\\'s %s mean: %.5f, Test\\'s %s std: %.5f' % (experiment.metric, np.mean(default_test_losses),\n",
    "                                                             experiment.metric, np.std(default_test_losses))\n",
    "\n",
    "    print('\\n~~~~~~~~~~~~~~~~~~~~~~~~~~~~~~~~~~~~~~~~~~~~~~~~~~~~\\n')\n",
    "    print('Hyperopt iterations:\\n\\n')\n",
    "\n",
    "    tuned_cv_result = experiment.optimize_params(cv_pairs)\n",
    "\n",
    "    print('\\n~~~~~~~~~~~~~~~~~~~~~~~~~~~~~~~~~~~~~~~~~~~~~~~~~~~~\\n')\n",
    "\n",
    "    experiment.print_result(tuned_cv_result, 'Tuned {} result on cv'.format(title))\n",
    "\n",
    "    print('\\n~~~~~~~~~~~~~~~~~~~~~~~~~~~~~~~~~~~~~~~~~~~~~~~~~~~~\\n')\n",
    "\n",
    "    tuned_test_losses = []\n",
    "    for seed in range(5):\n",
    "        test_result = experiment.run_test(dtrain, dtest, X_test, params=tuned_cv_result['params'],\n",
    "                                          n_estimators=tuned_cv_result['best_n_estimators'], seed=seed)\n",
    "        tuned_test_losses.append(test_result['loss'])\n",
    "        print 'For seed=%d Test\\'s %s : %.5f' % (seed, experiment.metric, tuned_test_losses[-1])\n",
    "    print '\\nTest\\'s %s mean: %.5f, Test\\'s %s std: %.5f' % (experiment.metric, np.mean(tuned_test_losses),\n",
    "                                                             experiment.metric, np.std(tuned_test_losses))\n",
    "\n",
    "    return np.mean(default_test_losses), np.mean(tuned_test_losses)"
   ]
  },
  {
   "cell_type": "markdown",
   "metadata": {},
   "source": [
    "## `XGBoost`"
   ]
  },
  {
   "cell_type": "code",
   "execution_count": 6,
   "metadata": {},
   "outputs": [
    {
     "name": "stdout",
     "output_type": "stream",
     "text": [
      "Default XGBoost result on cv:\n",
      "\n",
      "logloss = 0.2403498\n",
      "best_n_estimators = 23\n",
      "params = {'colsample_bytree': 1.0, 'silent': 1, 'eval_metric': 'logloss', 'colsample_bylevel': 1.0, 'min_child_weight': 1, 'subsample': 1.0, 'eta': 0.3, 'objective': 'binary:logistic', 'alpha': 0, 'seed': 0, 'max_depth': 6, 'gamma': 0, 'lambda': 1}\n",
      "\n",
      "~~~~~~~~~~~~~~~~~~~~~~~~~~~~~~~~~~~~~~~~~~~~~~~~~~~~\n",
      "\n",
      "For seed=0 Test's logloss : 0.23468\n",
      "For seed=1 Test's logloss : 0.23468\n",
      "For seed=2 Test's logloss : 0.23468\n",
      "For seed=3 Test's logloss : 0.23468\n",
      "For seed=4 Test's logloss : 0.23468\n",
      "\n",
      "Test's logloss mean: 0.23468, Test's logloss std: 0.00000\n",
      "\n",
      "~~~~~~~~~~~~~~~~~~~~~~~~~~~~~~~~~~~~~~~~~~~~~~~~~~~~\n",
      "\n",
      "Hyperopt iterations:\n",
      "\n",
      "\n",
      "[1/50]\teval_time=30.16 sec\tcurrent_logloss=0.267741\tmin_logloss=0.267741\n",
      "[2/50]\teval_time=435.47 sec\tcurrent_logloss=0.234354\tmin_logloss=0.234354\n",
      "[3/50]\teval_time=73.52 sec\tcurrent_logloss=0.243668\tmin_logloss=0.234354\n",
      "[4/50]\teval_time=70.74 sec\tcurrent_logloss=0.231636\tmin_logloss=0.231636\n",
      "[5/50]\teval_time=31.38 sec\tcurrent_logloss=0.271594\tmin_logloss=0.231636\n",
      "[6/50]\teval_time=139.29 sec\tcurrent_logloss=0.231492\tmin_logloss=0.231492\n",
      "[7/50]\teval_time=163.29 sec\tcurrent_logloss=0.232569\tmin_logloss=0.231492\n",
      "[8/50]\teval_time=23.48 sec\tcurrent_logloss=0.339049\tmin_logloss=0.231492\n",
      "[9/50]\teval_time=102.66 sec\tcurrent_logloss=0.232679\tmin_logloss=0.231492\n",
      "[10/50]\teval_time=62.95 sec\tcurrent_logloss=0.241513\tmin_logloss=0.231492\n",
      "[11/50]\teval_time=92.21 sec\tcurrent_logloss=0.232220\tmin_logloss=0.231492\n",
      "[12/50]\teval_time=148.47 sec\tcurrent_logloss=0.234044\tmin_logloss=0.231492\n",
      "[13/50]\teval_time=94.10 sec\tcurrent_logloss=0.234246\tmin_logloss=0.231492\n",
      "[14/50]\teval_time=71.49 sec\tcurrent_logloss=0.231138\tmin_logloss=0.231138\n",
      "[15/50]\teval_time=32.72 sec\tcurrent_logloss=0.243153\tmin_logloss=0.231138\n",
      "[16/50]\teval_time=93.95 sec\tcurrent_logloss=0.231828\tmin_logloss=0.231138\n",
      "[17/50]\teval_time=79.60 sec\tcurrent_logloss=0.229297\tmin_logloss=0.229297\n",
      "[18/50]\teval_time=72.92 sec\tcurrent_logloss=0.233737\tmin_logloss=0.229297\n",
      "[19/50]\teval_time=68.57 sec\tcurrent_logloss=0.236912\tmin_logloss=0.229297\n",
      "[20/50]\teval_time=72.55 sec\tcurrent_logloss=0.235997\tmin_logloss=0.229297\n",
      "[21/50]\teval_time=82.27 sec\tcurrent_logloss=0.235857\tmin_logloss=0.229297\n",
      "[22/50]\teval_time=39.06 sec\tcurrent_logloss=0.253404\tmin_logloss=0.229297\n",
      "[23/50]\teval_time=55.93 sec\tcurrent_logloss=0.232127\tmin_logloss=0.229297\n",
      "[24/50]\teval_time=109.08 sec\tcurrent_logloss=0.239873\tmin_logloss=0.229297\n",
      "[25/50]\teval_time=38.80 sec\tcurrent_logloss=0.237484\tmin_logloss=0.229297\n",
      "[26/50]\teval_time=62.88 sec\tcurrent_logloss=0.231130\tmin_logloss=0.229297\n",
      "[27/50]\teval_time=51.42 sec\tcurrent_logloss=0.237395\tmin_logloss=0.229297\n",
      "[28/50]\teval_time=57.02 sec\tcurrent_logloss=0.230883\tmin_logloss=0.229297\n",
      "[29/50]\teval_time=31.04 sec\tcurrent_logloss=0.255041\tmin_logloss=0.229297\n",
      "[30/50]\teval_time=56.74 sec\tcurrent_logloss=0.231326\tmin_logloss=0.229297\n",
      "[31/50]\teval_time=113.91 sec\tcurrent_logloss=0.247582\tmin_logloss=0.229297\n",
      "[32/50]\teval_time=47.84 sec\tcurrent_logloss=0.233706\tmin_logloss=0.229297\n",
      "[33/50]\teval_time=68.74 sec\tcurrent_logloss=0.232281\tmin_logloss=0.229297\n",
      "[34/50]\teval_time=52.71 sec\tcurrent_logloss=0.246176\tmin_logloss=0.229297\n",
      "[35/50]\teval_time=43.07 sec\tcurrent_logloss=0.235553\tmin_logloss=0.229297\n",
      "[36/50]\teval_time=80.18 sec\tcurrent_logloss=0.248104\tmin_logloss=0.229297\n",
      "[37/50]\teval_time=90.77 sec\tcurrent_logloss=0.235104\tmin_logloss=0.229297\n",
      "[38/50]\teval_time=87.03 sec\tcurrent_logloss=0.232546\tmin_logloss=0.229297\n",
      "[39/50]\teval_time=118.25 sec\tcurrent_logloss=0.232151\tmin_logloss=0.229297\n",
      "[40/50]\teval_time=22.55 sec\tcurrent_logloss=0.302215\tmin_logloss=0.229297\n",
      "[41/50]\teval_time=179.99 sec\tcurrent_logloss=0.236746\tmin_logloss=0.229297\n",
      "[42/50]\teval_time=36.55 sec\tcurrent_logloss=0.262461\tmin_logloss=0.229297\n",
      "[43/50]\teval_time=104.94 sec\tcurrent_logloss=0.230547\tmin_logloss=0.229297\n",
      "[44/50]\teval_time=127.49 sec\tcurrent_logloss=0.234516\tmin_logloss=0.229297\n",
      "[45/50]\teval_time=66.04 sec\tcurrent_logloss=0.261000\tmin_logloss=0.229297\n",
      "[46/50]\teval_time=80.76 sec\tcurrent_logloss=0.238025\tmin_logloss=0.229297\n",
      "[47/50]\teval_time=79.62 sec\tcurrent_logloss=0.236966\tmin_logloss=0.229297\n",
      "[48/50]\teval_time=92.10 sec\tcurrent_logloss=0.251558\tmin_logloss=0.229297\n",
      "[49/50]\teval_time=85.35 sec\tcurrent_logloss=0.231456\tmin_logloss=0.229297\n",
      "[50/50]\teval_time=166.61 sec\tcurrent_logloss=0.229985\tmin_logloss=0.229297\n",
      "\n",
      "~~~~~~~~~~~~~~~~~~~~~~~~~~~~~~~~~~~~~~~~~~~~~~~~~~~~\n",
      "\n",
      "Tuned XGBoost result on cv:\n",
      "\n",
      "logloss = 0.2292974\n",
      "best_n_estimators = 1049\n",
      "params = {'colsample_bytree': 0.5172264118727532, 'silent': 1, 'eval_metric': 'logloss', 'colsample_bylevel': 0.7760772711420441, 'min_child_weight': 0.6549847456040173, 'subsample': 0.9570232190985026, 'eta': 0.00857275414355182, 'objective': 'binary:logistic', 'alpha': 0, 'seed': 0, 'max_depth': 6, 'gamma': 0.002524767474640703, 'lambda': 0.33582699915338265}\n",
      "\n",
      "~~~~~~~~~~~~~~~~~~~~~~~~~~~~~~~~~~~~~~~~~~~~~~~~~~~~\n",
      "\n",
      "For seed=0 Test's logloss : 0.22365\n",
      "For seed=1 Test's logloss : 0.22440\n",
      "For seed=2 Test's logloss : 0.22465\n",
      "For seed=3 Test's logloss : 0.22347\n",
      "For seed=4 Test's logloss : 0.22414\n",
      "\n",
      "Test's logloss mean: 0.22406, Test's logloss std: 0.00045\n"
     ]
    }
   ],
   "source": [
    "xgb_default_test_result, xgb_tuned_test_result = run_experiment(XGBExperiment, \"XGBoost\")"
   ]
  },
  {
   "cell_type": "markdown",
   "metadata": {},
   "source": [
    "## `LightGBM`"
   ]
  },
  {
   "cell_type": "code",
   "execution_count": 7,
   "metadata": {
    "scrolled": false
   },
   "outputs": [
    {
     "name": "stdout",
     "output_type": "stream",
     "text": [
      "Default LightGBM result on cv:\n",
      "\n",
      "logloss = 0.240168190538\n",
      "best_n_estimators = 54\n",
      "params = {'num_leaves': 127, 'verbose': -1, 'bagging_seed': 3, 'learning_rate': 0.1, 'data_random_seed': 1, 'min_data_in_leaf': 100, 'bagging_fraction': 1.0, 'metric': 'binary_logloss', 'feature_fraction_seed': 2, 'lambda_l1': 0, 'bagging_freq': 1, 'lambda_l2': 0, 'max_bin': 255, 'objective': 'binary', 'drop_seed': 4, 'min_sum_hessian_in_leaf': 10, 'feature_fraction': 1.0}\n",
      "\n",
      "~~~~~~~~~~~~~~~~~~~~~~~~~~~~~~~~~~~~~~~~~~~~~~~~~~~~\n",
      "\n",
      "For seed=0 Test's logloss : 0.23399\n",
      "For seed=1 Test's logloss : 0.23399\n",
      "For seed=2 Test's logloss : 0.23399\n",
      "For seed=3 Test's logloss : 0.23399\n",
      "For seed=4 Test's logloss : 0.23399\n",
      "\n",
      "Test's logloss mean: 0.23399, Test's logloss std: 0.00000\n",
      "\n",
      "~~~~~~~~~~~~~~~~~~~~~~~~~~~~~~~~~~~~~~~~~~~~~~~~~~~~\n",
      "\n",
      "Hyperopt iterations:\n",
      "\n",
      "\n",
      "[1/50]\teval_time=14.55 sec\tcurrent_logloss=0.255516\tmin_logloss=0.255516\n",
      "[2/50]\teval_time=12.38 sec\tcurrent_logloss=0.236473\tmin_logloss=0.236473\n",
      "[3/50]\teval_time=17.79 sec\tcurrent_logloss=0.246445\tmin_logloss=0.236473\n",
      "[4/50]\teval_time=8.48 sec\tcurrent_logloss=0.261229\tmin_logloss=0.236473\n",
      "[5/50]\teval_time=14.62 sec\tcurrent_logloss=0.250500\tmin_logloss=0.236473\n",
      "[6/50]\teval_time=14.06 sec\tcurrent_logloss=0.241312\tmin_logloss=0.236473\n",
      "[7/50]\teval_time=31.26 sec\tcurrent_logloss=0.246014\tmin_logloss=0.236473\n",
      "[8/50]\teval_time=14.56 sec\tcurrent_logloss=0.283571\tmin_logloss=0.236473\n",
      "[9/50]\teval_time=18.53 sec\tcurrent_logloss=0.243522\tmin_logloss=0.236473\n",
      "[10/50]\teval_time=164.97 sec\tcurrent_logloss=0.247766\tmin_logloss=0.236473\n",
      "[11/50]\teval_time=18.89 sec\tcurrent_logloss=0.238515\tmin_logloss=0.236473\n",
      "[12/50]\teval_time=21.36 sec\tcurrent_logloss=0.247110\tmin_logloss=0.236473\n",
      "[13/50]\teval_time=15.28 sec\tcurrent_logloss=0.269684\tmin_logloss=0.236473\n",
      "[14/50]\teval_time=9.50 sec\tcurrent_logloss=0.259199\tmin_logloss=0.236473\n",
      "[15/50]\teval_time=10.29 sec\tcurrent_logloss=0.255609\tmin_logloss=0.236473\n",
      "[16/50]\teval_time=17.23 sec\tcurrent_logloss=0.248745\tmin_logloss=0.236473\n",
      "[17/50]\teval_time=29.93 sec\tcurrent_logloss=0.245339\tmin_logloss=0.236473\n",
      "[18/50]\teval_time=11.48 sec\tcurrent_logloss=0.326331\tmin_logloss=0.236473\n",
      "[19/50]\teval_time=14.85 sec\tcurrent_logloss=0.285089\tmin_logloss=0.236473\n",
      "[20/50]\teval_time=92.47 sec\tcurrent_logloss=0.236466\tmin_logloss=0.236466\n",
      "[21/50]\teval_time=35.70 sec\tcurrent_logloss=0.237238\tmin_logloss=0.236466\n",
      "[22/50]\teval_time=9.95 sec\tcurrent_logloss=0.280630\tmin_logloss=0.236466\n",
      "[23/50]\teval_time=54.14 sec\tcurrent_logloss=0.232548\tmin_logloss=0.232548\n",
      "[24/50]\teval_time=56.44 sec\tcurrent_logloss=0.238202\tmin_logloss=0.232548\n",
      "[25/50]\teval_time=24.87 sec\tcurrent_logloss=0.250608\tmin_logloss=0.232548\n",
      "[26/50]\teval_time=34.01 sec\tcurrent_logloss=0.234484\tmin_logloss=0.232548\n",
      "[27/50]\teval_time=25.92 sec\tcurrent_logloss=0.251243\tmin_logloss=0.232548\n",
      "[28/50]\teval_time=55.78 sec\tcurrent_logloss=0.237018\tmin_logloss=0.232548\n",
      "[29/50]\teval_time=37.30 sec\tcurrent_logloss=0.237976\tmin_logloss=0.232548\n",
      "[30/50]\teval_time=25.68 sec\tcurrent_logloss=0.248881\tmin_logloss=0.232548\n",
      "[31/50]\teval_time=20.85 sec\tcurrent_logloss=0.233249\tmin_logloss=0.232548\n",
      "[32/50]\teval_time=20.97 sec\tcurrent_logloss=0.232730\tmin_logloss=0.232548\n",
      "[33/50]\teval_time=9.58 sec\tcurrent_logloss=0.296105\tmin_logloss=0.232548\n",
      "[34/50]\teval_time=20.59 sec\tcurrent_logloss=0.231035\tmin_logloss=0.231035\n",
      "[35/50]\teval_time=12.24 sec\tcurrent_logloss=0.261690\tmin_logloss=0.231035\n",
      "[36/50]\teval_time=13.98 sec\tcurrent_logloss=0.239701\tmin_logloss=0.231035\n",
      "[37/50]\teval_time=21.89 sec\tcurrent_logloss=0.254232\tmin_logloss=0.231035\n",
      "[38/50]\teval_time=107.68 sec\tcurrent_logloss=0.235677\tmin_logloss=0.231035\n",
      "[39/50]\teval_time=13.12 sec\tcurrent_logloss=0.272440\tmin_logloss=0.231035\n",
      "[40/50]\teval_time=50.51 sec\tcurrent_logloss=0.231755\tmin_logloss=0.231035\n",
      "[41/50]\teval_time=21.24 sec\tcurrent_logloss=0.235069\tmin_logloss=0.231035\n",
      "[42/50]\teval_time=35.96 sec\tcurrent_logloss=0.233747\tmin_logloss=0.231035\n",
      "[43/50]\teval_time=13.55 sec\tcurrent_logloss=0.255846\tmin_logloss=0.231035\n",
      "[44/50]\teval_time=16.13 sec\tcurrent_logloss=0.241938\tmin_logloss=0.231035\n",
      "[45/50]\teval_time=26.06 sec\tcurrent_logloss=0.249883\tmin_logloss=0.231035\n",
      "[46/50]\teval_time=28.71 sec\tcurrent_logloss=0.252248\tmin_logloss=0.231035\n",
      "[47/50]\teval_time=13.33 sec\tcurrent_logloss=0.255748\tmin_logloss=0.231035\n",
      "[48/50]\teval_time=30.31 sec\tcurrent_logloss=0.245492\tmin_logloss=0.231035\n",
      "[49/50]\teval_time=22.81 sec\tcurrent_logloss=0.251134\tmin_logloss=0.231035\n",
      "[50/50]\teval_time=16.69 sec\tcurrent_logloss=0.235457\tmin_logloss=0.231035\n",
      "\n",
      "~~~~~~~~~~~~~~~~~~~~~~~~~~~~~~~~~~~~~~~~~~~~~~~~~~~~\n",
      "\n",
      "Tuned LightGBM result on cv:\n",
      "\n",
      "logloss = 0.231035196523\n",
      "best_n_estimators = 1388\n",
      "params = {'num_leaves': 8, 'verbose': -1, 'bagging_seed': 3, 'learning_rate': 0.008187882809040153, 'data_random_seed': 1, 'min_data_in_leaf': 1, 'bagging_freq': 1, 'metric': 'binary_logloss', 'feature_fraction_seed': 2, 'lambda_l1': 1.9506890000699384e-06, 'bagging_fraction': 0.8247538347032236, 'lambda_l2': 9.295205295417951e-05, 'objective': 'binary', 'drop_seed': 4, 'min_sum_hessian_in_leaf': 2.2515749045807105, 'feature_fraction': 0.9989199842749328}\n",
      "\n",
      "~~~~~~~~~~~~~~~~~~~~~~~~~~~~~~~~~~~~~~~~~~~~~~~~~~~~\n",
      "\n",
      "For seed=0 Test's logloss : 0.22693\n",
      "For seed=1 Test's logloss : 0.22745\n",
      "For seed=2 Test's logloss : 0.22746\n",
      "For seed=3 Test's logloss : 0.22622\n",
      "For seed=4 Test's logloss : 0.22751\n",
      "\n",
      "Test's logloss mean: 0.22711, Test's logloss std: 0.00050\n"
     ]
    }
   ],
   "source": [
    "lgb_default_test_result, lgb_tuned_test_result = run_experiment(LGBExperiment, \"LightGBM\")"
   ]
  },
  {
   "cell_type": "markdown",
   "metadata": {},
   "source": [
    "## `CatBoost`"
   ]
  },
  {
   "cell_type": "code",
   "execution_count": 8,
   "metadata": {},
   "outputs": [
    {
     "data": {
      "text/plain": [
       "'0.3.1'"
      ]
     },
     "execution_count": 8,
     "metadata": {},
     "output_type": "execute_result"
    }
   ],
   "source": [
    "import catboost\n",
    "\n",
    "catboost.__version__"
   ]
  },
  {
   "cell_type": "code",
   "execution_count": 9,
   "metadata": {},
   "outputs": [
    {
     "name": "stdout",
     "output_type": "stream",
     "text": [
      "Default CatBoost result on cv:\n",
      "\n",
      "logloss = 0.223204754\n",
      "best_n_estimators = 995\n",
      "params = {'rsm': 1.0, 'random_seed': 0, 'verbose': False, 'thread_count': 16, 'learning_rate': 0.03, 'ctr_border_count': 16, 'ctr_description': ['Borders', 'Counter'], 'iterations': 5000, 'gradient_iterations': 10, 'depth': 6, 'loss_function': 'Logloss', 'fold_len_multiplier': 2, 'kwargs': {}, 'leaf_estimation_method': 'Newton', 'l2_leaf_reg': 3, 'border_count': 128, 'used_ram_limit': 100000000000}\n",
      "\n",
      "~~~~~~~~~~~~~~~~~~~~~~~~~~~~~~~~~~~~~~~~~~~~~~~~~~~~\n",
      "\n",
      "For seed=0 Test's logloss : 0.21633\n",
      "For seed=1 Test's logloss : 0.21714\n",
      "For seed=2 Test's logloss : 0.21873\n",
      "For seed=3 Test's logloss : 0.22012\n",
      "For seed=4 Test's logloss : 0.21845\n",
      "\n",
      "Test's logloss mean: 0.21816, Test's logloss std: 0.00131\n",
      "\n",
      "~~~~~~~~~~~~~~~~~~~~~~~~~~~~~~~~~~~~~~~~~~~~~~~~~~~~\n",
      "\n",
      "Hyperopt iterations:\n",
      "\n",
      "\n",
      "[1/50]\teval_time=1214.19 sec\tcurrent_logloss=0.220263\tmin_logloss=0.220263\n",
      "[2/50]\teval_time=685.28 sec\tcurrent_logloss=0.218528\tmin_logloss=0.218528\n",
      "[3/50]\teval_time=1221.27 sec\tcurrent_logloss=0.217087\tmin_logloss=0.217087\n",
      "[4/50]\teval_time=689.20 sec\tcurrent_logloss=0.216738\tmin_logloss=0.216738\n",
      "[5/50]\teval_time=1296.48 sec\tcurrent_logloss=0.221072\tmin_logloss=0.216738\n",
      "[6/50]\teval_time=783.68 sec\tcurrent_logloss=0.220478\tmin_logloss=0.216738\n",
      "[7/50]\teval_time=1301.36 sec\tcurrent_logloss=0.222964\tmin_logloss=0.216738\n",
      "[8/50]\teval_time=1178.17 sec\tcurrent_logloss=0.219273\tmin_logloss=0.216738\n",
      "[9/50]\teval_time=1281.59 sec\tcurrent_logloss=0.220473\tmin_logloss=0.216738\n",
      "[10/50]\teval_time=697.99 sec\tcurrent_logloss=0.215086\tmin_logloss=0.215086\n",
      "[11/50]\teval_time=1210.63 sec\tcurrent_logloss=0.222967\tmin_logloss=0.215086\n",
      "[12/50]\teval_time=697.99 sec\tcurrent_logloss=0.218476\tmin_logloss=0.215086\n",
      "[13/50]\teval_time=770.96 sec\tcurrent_logloss=0.220890\tmin_logloss=0.215086\n",
      "[14/50]\teval_time=794.00 sec\tcurrent_logloss=0.220993\tmin_logloss=0.215086\n",
      "[15/50]\teval_time=668.87 sec\tcurrent_logloss=0.218242\tmin_logloss=0.215086\n",
      "[16/50]\teval_time=1299.08 sec\tcurrent_logloss=0.227795\tmin_logloss=0.215086\n",
      "[17/50]\teval_time=695.33 sec\tcurrent_logloss=0.214682\tmin_logloss=0.214682\n",
      "[18/50]\teval_time=694.27 sec\tcurrent_logloss=0.227823\tmin_logloss=0.214682\n",
      "[19/50]\teval_time=768.00 sec\tcurrent_logloss=0.223613\tmin_logloss=0.214682\n",
      "[20/50]\teval_time=684.25 sec\tcurrent_logloss=0.214647\tmin_logloss=0.214647\n",
      "[21/50]\teval_time=691.23 sec\tcurrent_logloss=0.214825\tmin_logloss=0.214647\n",
      "[22/50]\teval_time=689.61 sec\tcurrent_logloss=0.215791\tmin_logloss=0.214647\n",
      "[23/50]\teval_time=678.57 sec\tcurrent_logloss=0.214731\tmin_logloss=0.214647\n",
      "[24/50]\teval_time=694.25 sec\tcurrent_logloss=0.215975\tmin_logloss=0.214647\n",
      "[25/50]\teval_time=687.00 sec\tcurrent_logloss=0.213962\tmin_logloss=0.213962\n",
      "[26/50]\teval_time=685.75 sec\tcurrent_logloss=0.213349\tmin_logloss=0.213349\n",
      "[27/50]\teval_time=695.45 sec\tcurrent_logloss=0.213458\tmin_logloss=0.213349\n",
      "[28/50]\teval_time=692.83 sec\tcurrent_logloss=0.213753\tmin_logloss=0.213349\n",
      "[29/50]\teval_time=687.51 sec\tcurrent_logloss=0.214040\tmin_logloss=0.213349\n",
      "[30/50]\teval_time=688.44 sec\tcurrent_logloss=0.213791\tmin_logloss=0.213349\n",
      "[31/50]\teval_time=688.78 sec\tcurrent_logloss=0.215351\tmin_logloss=0.213349\n",
      "[32/50]\teval_time=694.91 sec\tcurrent_logloss=0.217491\tmin_logloss=0.213349\n",
      "[33/50]\teval_time=684.46 sec\tcurrent_logloss=0.214450\tmin_logloss=0.213349\n",
      "[34/50]\teval_time=1207.36 sec\tcurrent_logloss=0.217708\tmin_logloss=0.213349\n",
      "[35/50]\teval_time=675.05 sec\tcurrent_logloss=0.213565\tmin_logloss=0.213349\n",
      "[36/50]\teval_time=703.31 sec\tcurrent_logloss=0.215057\tmin_logloss=0.213349\n",
      "[37/50]\teval_time=1321.27 sec\tcurrent_logloss=0.219697\tmin_logloss=0.213349\n",
      "[38/50]\teval_time=712.59 sec\tcurrent_logloss=0.216148\tmin_logloss=0.213349\n",
      "[39/50]\teval_time=1285.91 sec\tcurrent_logloss=0.215645\tmin_logloss=0.213349\n",
      "[40/50]\teval_time=810.33 sec\tcurrent_logloss=0.217897\tmin_logloss=0.213349\n",
      "[41/50]\teval_time=1344.66 sec\tcurrent_logloss=0.218845\tmin_logloss=0.213349\n",
      "[42/50]\teval_time=719.42 sec\tcurrent_logloss=0.214255\tmin_logloss=0.213349\n",
      "[43/50]\teval_time=882.26 sec\tcurrent_logloss=0.216966\tmin_logloss=0.213349\n",
      "[44/50]\teval_time=1424.10 sec\tcurrent_logloss=0.219919\tmin_logloss=0.213349\n",
      "[45/50]\teval_time=739.72 sec\tcurrent_logloss=0.214947\tmin_logloss=0.213349\n",
      "[46/50]\teval_time=895.94 sec\tcurrent_logloss=0.220208\tmin_logloss=0.213349\n",
      "[47/50]\teval_time=1379.78 sec\tcurrent_logloss=0.216882\tmin_logloss=0.213349\n",
      "[48/50]\teval_time=698.87 sec\tcurrent_logloss=0.219318\tmin_logloss=0.213349\n",
      "[49/50]\teval_time=791.66 sec\tcurrent_logloss=0.225503\tmin_logloss=0.213349\n",
      "[50/50]\teval_time=686.26 sec\tcurrent_logloss=0.213677\tmin_logloss=0.213349\n",
      "\n",
      "~~~~~~~~~~~~~~~~~~~~~~~~~~~~~~~~~~~~~~~~~~~~~~~~~~~~\n",
      "\n",
      "Tuned CatBoost result on cv:\n",
      "\n",
      "logloss = 0.21334945956\n",
      "best_n_estimators = 2452\n",
      "params = {'random_seed': 0, 'verbose': False, 'thread_count': 16, 'learning_rate': 0.014617766868861527, 'ctr_border_count': 16, 'ctr_description': ('Borders', 'Counter'), 'iterations': 5000, 'one_hot_max_size': 25, 'bagging_temperature': 0.5131540253169404, 'gradient_iterations': 1, 'random_strength': 20, 'depth': 6, 'loss_function': 'Logloss', 'kwargs': {}, 'l2_leaf_reg': 9.566014455962716, 'border_count': 128, 'used_ram_limit': 100000000000}\n",
      "\n",
      "~~~~~~~~~~~~~~~~~~~~~~~~~~~~~~~~~~~~~~~~~~~~~~~~~~~~\n",
      "\n",
      "For seed=0 Test's logloss : 0.20918\n",
      "For seed=1 Test's logloss : 0.20784\n",
      "For seed=2 Test's logloss : 0.20666\n",
      "For seed=3 Test's logloss : 0.20802\n",
      "For seed=4 Test's logloss : 0.20977\n",
      "\n",
      "Test's logloss mean: 0.20830, Test's logloss std: 0.00109\n"
     ]
    }
   ],
   "source": [
    "cab_default_test_result, cab_tuned_test_result = run_experiment(CABExperiment, \"CatBoost\")"
   ]
  },
  {
   "cell_type": "markdown",
   "metadata": {
    "collapsed": true
   },
   "source": [
    "## Comparing results\n",
    "\n",
    "The final table with metric values on the test dataset."
   ]
  },
  {
   "cell_type": "code",
   "execution_count": 11,
   "metadata": {},
   "outputs": [
    {
     "name": "stdout",
     "output_type": "stream",
     "text": [
      "Populating the interactive namespace from numpy and matplotlib\n"
     ]
    },
    {
     "data": {
      "text/html": [
       "<table border=\"1\" class=\"dataframe\">\n",
       "  <thead>\n",
       "    <tr style=\"text-align: right;\">\n",
       "      <th></th>\n",
       "      <th>default</th>\n",
       "      <th>tuned</th>\n",
       "    </tr>\n",
       "  </thead>\n",
       "  <tbody>\n",
       "    <tr>\n",
       "      <th>xgboost</th>\n",
       "      <td>0.234678 (+12.66%)</td>\n",
       "      <td>0.224060 (+7.57%)</td>\n",
       "    </tr>\n",
       "    <tr>\n",
       "      <th>lightgbm</th>\n",
       "      <td>0.233989 (+12.33%)</td>\n",
       "      <td>0.227115 (+9.03%)</td>\n",
       "    </tr>\n",
       "    <tr>\n",
       "      <th>catboost</th>\n",
       "      <td>0.218155 (+4.73%)</td>\n",
       "      <td>0.208298 (+0.00%)</td>\n",
       "    </tr>\n",
       "  </tbody>\n",
       "</table>"
      ],
      "text/plain": [
       "<IPython.core.display.HTML object>"
      ]
     },
     "metadata": {},
     "output_type": "display_data"
    },
    {
     "data": {
      "image/png": "[encoded data removed]",
      "text/plain": [
       "<matplotlib.figure.Figure at 0x7f7a44237450>"
      ]
     },
     "metadata": {},
     "output_type": "display_data"
    }
   ],
   "source": [
    "import pandas as pd\n",
    "import numpy as np\n",
    "from IPython.display import HTML, display\n",
    "%pylab inline --no-import-all\n",
    "\n",
    "test_results = np.array([\n",
    "    (xgb_default_test_result, xgb_tuned_test_result),\n",
    "    (lgb_default_test_result, lgb_tuned_test_result),\n",
    "    (cab_default_test_result, cab_tuned_test_result)\n",
    "])\n",
    "\n",
    "diff = 100 * test_results / test_results[2,1] - 100\n",
    "\n",
    "res = [['{:.6f} ({:+.2f}%)'.format(test_results[i, j], diff[i, j]) for j in range(2)] for i in range(3)]\n",
    "\n",
    "display(HTML(pd.DataFrame(res, columns=['default', 'tuned'], index=['xgboost', 'lightgbm', 'catboost']).to_html()))\n",
    "\n",
    "results = [\n",
    "    ('Tuned CatBoost',   cab_tuned_test_result),\n",
    "    ('Default CatBoost', cab_default_test_result),\n",
    "    ('Tuned XGBoost',    xgb_tuned_test_result),\n",
    "    ('Default XGBoost',  xgb_default_test_result),\n",
    "    ('Tuned LightGBM',   lgb_tuned_test_result),\n",
    "    ('Default LightGBM', lgb_default_test_result),\n",
    "]\n",
    "names = ['%s\\n%.5f' % (name, loss) for name, loss in results]\n",
    "\n",
    "plt.figure(figsize=(20, 7))\n",
    "plt.scatter(range(6), zip(*results)[1], s=150)\n",
    "plt.xticks(range(6), names, fontsize=15)\n",
    "plt.yticks(fontsize=12)\n",
    "plt.title('Comparison', fontsize=20)\n",
    "plt.ylabel(experiment.metric, fontsize=16);"
   ]
  },
  {
   "cell_type": "code",
   "execution_count": null,
   "metadata": {
    "collapsed": true
   },
   "outputs": [],
   "source": []
  }
 ],
 "metadata": {
  "kernelspec": {
   "display_name": "Python [conda env:py27]",
   "language": "python",
   "name": "conda-env-py27-py"
  },
  "language_info": {
   "codemirror_mode": {
    "name": "ipython",
    "version": 2
   },
   "file_extension": ".py",
   "mimetype": "text/x-python",
   "name": "python",
   "nbconvert_exporter": "python",
   "pygments_lexer": "ipython2",
   "version": "2.7.14"
  }
 },
 "nbformat": 4,
 "nbformat_minor": 2
}
